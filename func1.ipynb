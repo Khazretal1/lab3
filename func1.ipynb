{
 "cells": [
  {
   "cell_type": "markdown",
   "metadata": {},
   "source": [
    "1. Grams to Ounces"
   ]
  },
  {
   "cell_type": "code",
   "execution_count": null,
   "metadata": {},
   "outputs": [],
   "source": [
    "def to_ounces(n):\n",
    "    return n * 28.3495231\n",
    "\n",
    "print(to_ounces(2))"
   ]
  },
  {
   "cell_type": "code",
   "execution_count": null,
   "metadata": {},
   "outputs": [],
   "source": [
    "2. F to C"
   ]
  },
  {
   "cell_type": "code",
   "execution_count": null,
   "metadata": {},
   "outputs": [],
   "source": [
    "def to_c (n):\n",
    "    return (5 / 9) * (n - 32)\n",
    "\n",
    "print(to_c(5))"
   ]
  },
  {
   "cell_type": "code",
   "execution_count": null,
   "metadata": {},
   "outputs": [],
   "source": [
    "3. Rabbits and Chickens "
   ]
  },
  {
   "cell_type": "code",
   "execution_count": null,
   "metadata": {},
   "outputs": [],
   "source": [
    "def solve(numheads, numlegs):\n",
    "    if  numlegs < numheads * 2 or numlegs % 2 != 0 or numlegs > 4 * numheads:\n",
    "        return \"Error\"\n",
    "    \n",
    "    rabbits = (numlegs - 2 * numheads) // 2\n",
    "    chickens = numheads - rabbits\n",
    "    \n",
    "    return rabbits, chickens \n",
    "\n",
    "print(solve(35,94))"
   ]
  },
  {
   "cell_type": "code",
   "execution_count": null,
   "metadata": {},
   "outputs": [],
   "source": [
    "4. Filter prime numbers "
   ]
  },
  {
   "cell_type": "code",
   "execution_count": null,
   "metadata": {},
   "outputs": [],
   "source": [
    "def primes_list(nums):\n",
    "    primes = []\n",
    "    for i in nums:\n",
    "        count = 0\n",
    "        for j in range (2, int(i**0.5 + 1)):\n",
    "            if i % j == 0:\n",
    "                count += 1\n",
    "                \n",
    "        if count == 0 and i != 1:\n",
    "            primes.append(i)\n",
    "        \n",
    "        \n",
    "    \n",
    "    return primes\n",
    "    \n",
    "numbers = [1, 2, 3, 4, 5, 6, 7, 8, 9, 10, 11, 12, 13, 14, 15, 16, 17, 19, 21, 23, 24, 25, 26, 31]\n",
    "print(primes_list(numbers))"
   ]
  }
 ],
 "metadata": {
  "language_info": {
   "name": "python"
  }
 },
 "nbformat": 4,
 "nbformat_minor": 2
}
